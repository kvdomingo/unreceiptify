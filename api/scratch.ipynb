{
 "cells": [
  {
   "cell_type": "code",
   "execution_count": 24,
   "id": "initial_id",
   "metadata": {
    "ExecuteTime": {
     "end_time": "2024-11-23T11:55:48.990627Z",
     "start_time": "2024-11-23T11:55:48.984767Z"
    },
    "collapsed": true
   },
   "outputs": [],
   "source": [
    "from dotenv import load_dotenv\n",
    "\n",
    "load_dotenv()\n",
    "\n",
    "import io\n",
    "from importlib import reload\n",
    "\n",
    "from azure.ai.documentintelligence import DocumentIntelligenceClient\n",
    "from azure.core.credentials import AzureKeyCredential\n",
    "from fastapi import UploadFile\n",
    "from pillow_heif import register_heif_opener\n",
    "\n",
    "from api.internal.receipt import extract_receipt_details\n",
    "from api.schemas import receipt\n",
    "from api.settings import settings"
   ]
  },
  {
   "cell_type": "code",
   "execution_count": 2,
   "id": "f48c7b68bf838ab2",
   "metadata": {
    "ExecuteTime": {
     "end_time": "2024-11-23T11:42:12.386984Z",
     "start_time": "2024-11-23T11:42:12.322462Z"
    }
   },
   "outputs": [],
   "source": [
    "client = DocumentIntelligenceClient(\n",
    "    endpoint=str(settings.AZURE_AI_ENDPOINT),\n",
    "    credential=AzureKeyCredential(settings.AZURE_AI_ACCESS_KEY),\n",
    ")"
   ]
  },
  {
   "cell_type": "code",
   "execution_count": 3,
   "id": "4ff5a942df53d0a9",
   "metadata": {
    "ExecuteTime": {
     "end_time": "2024-11-23T11:42:22.202483Z",
     "start_time": "2024-11-23T11:42:15.760779Z"
    }
   },
   "outputs": [],
   "source": [
    "fh = open(settings.BASE_DIR.parent / \"data\" / \"receipts\" / \"IMG_6102.HEIC\", \"rb\")\n",
    "file = UploadFile(file=fh, filename=\"IMG_6102.HEIC\")\n",
    "\n",
    "with io.BytesIO(file.file.read()) as buf:\n",
    "    buf.seek(0)\n",
    "    poller = client.begin_analyze_document(\n",
    "        \"prebuilt-receipt\",\n",
    "        analyze_request=buf,\n",
    "        content_type=\"application/octet-stream\",\n",
    "    )\n",
    "    res = poller.result()"
   ]
  },
  {
   "cell_type": "code",
   "execution_count": 44,
   "id": "18b7d3f3b352073",
   "metadata": {
    "ExecuteTime": {
     "end_time": "2024-11-23T12:03:43.445707Z",
     "start_time": "2024-11-23T12:03:43.440853Z"
    }
   },
   "outputs": [
    {
     "data": {
      "text/plain": [
       "{'type': 'object', 'valueObject': {'Amount': {'type': 'currency', 'valueCurrency': {'amount': 0.94, 'currencyCode': 'GBP'}, 'content': '0.94', 'boundingRegions': [{'pageNumber': 1, 'polygon': [1063, 1863, 1214, 1862, 1214, 1928, 1063, 1928]}], 'confidence': 0.981, 'spans': [{'offset': 209, 'length': 4}]}}, 'content': '0.94 VAT 20%\\n5.65', 'boundingRegions': [{'pageNumber': 1, 'polygon': [1063, 1836, 2093, 1840, 2093, 1932, 1063, 1928]}], 'confidence': 0.98, 'spans': [{'offset': 209, 'length': 17}]}"
      ]
     },
     "execution_count": 44,
     "metadata": {},
     "output_type": "execute_result"
    }
   ],
   "source": [
    "res.documents[0].fields[\"TaxDetails\"].value_array[0]"
   ]
  },
  {
   "cell_type": "code",
   "execution_count": 32,
   "id": "f03ff0286654159c",
   "metadata": {
    "ExecuteTime": {
     "end_time": "2024-11-23T11:58:13.185625Z",
     "start_time": "2024-11-23T11:58:13.175391Z"
    }
   },
   "outputs": [
    {
     "name": "stdout",
     "output_type": "stream",
     "text": [
      "{\n",
      "  \"receipt_type\": \"receipt.retailMeal\",\n",
      "  \"total\": 8.15,\n",
      "  \"total_tax\": 0.94,\n",
      "  \"tax_details\": 0.94,\n",
      "  \"merchant_address\": \"47 49 Tooley Street SE1 2QN\",\n",
      "  \"merchant_name\": \"Pret A Manger (Europe) Ltd\",\n",
      "  \"transaction_date\": \"2024-10-04\",\n",
      "  \"transaction_time\": \"14:58:00\",\n",
      "  \"items\": [\n",
      "    {\n",
      "      \"description\": \"TA Toastie Classic Cheese\",\n",
      "      \"quantity\": 1,\n",
      "      \"total_price\": 5.65\n",
      "    },\n",
      "    {\n",
      "      \"description\": \"TA Very Berry Croissant\",\n",
      "      \"quantity\": 1,\n",
      "      \"total_price\": 2.5\n",
      "    }\n",
      "  ]\n",
      "}\n"
     ]
    }
   ],
   "source": [
    "reload(receipt)\n",
    "\n",
    "print(receipt.Receipt.model_validate(res.documents[0]).model_dump_json(indent=2))"
   ]
  },
  {
   "cell_type": "code",
   "execution_count": 4,
   "id": "d538f5eb5bb6d3a",
   "metadata": {
    "ExecuteTime": {
     "end_time": "2024-11-23T09:50:37.229758Z",
     "start_time": "2024-11-23T09:50:31.889263Z"
    }
   },
   "outputs": [
    {
     "data": {
      "text/plain": [
       "'{\\n  \"receipt_type\": \"receipt.retailMeal\",\\n  \"items\": [\\n    {\\n      \"description\": \"TA Toastie Classic Cheese\",\\n      \"quantity\": 1,\\n      \"total_price\": 5.65\\n    },\\n    {\\n      \"description\": \"TA Very Berry Croissant\",\\n      \"quantity\": 1,\\n      \"total_price\": 2.5\\n    }\\n  ],\\n  \"total\": 8.15,\\n  \"total_tax\": 0.94,\\n  \"tax_details\": 0.94,\\n  \"merchant_address\": \"47 49 Tooley Street SE1 2QN\",\\n  \"merchant_name\": \"Pret A Manger (Europe) Ltd\",\\n  \"transaction_date\": \"2024-10-04\",\\n  \"transaction_time\": \"14:58:00\"\\n}'"
      ]
     },
     "execution_count": 4,
     "metadata": {},
     "output_type": "execute_result"
    }
   ],
   "source": [
    "register_heif_opener()\n",
    "\n",
    "with open(settings.BASE_DIR.parent / \"data\" / \"receipts\" / \"IMG_6102.HEIC\", \"rb\") as fh:\n",
    "    res = await extract_receipt_details(fh)\n",
    "\n",
    "print(res.model_dump_json(indent=2))"
   ]
  },
  {
   "cell_type": "code",
   "execution_count": 5,
   "id": "c0f63c6b83498577",
   "metadata": {
    "ExecuteTime": {
     "end_time": "2024-11-23T09:50:48.211815Z",
     "start_time": "2024-11-23T09:50:48.208410Z"
    }
   },
   "outputs": [
    {
     "name": "stdout",
     "output_type": "stream",
     "text": [
      "{\n",
      "  \"receipt_type\": \"receipt.retailMeal\",\n",
      "  \"items\": [\n",
      "    {\n",
      "      \"description\": \"TA Toastie Classic Cheese\",\n",
      "      \"quantity\": 1,\n",
      "      \"total_price\": 5.65\n",
      "    },\n",
      "    {\n",
      "      \"description\": \"TA Very Berry Croissant\",\n",
      "      \"quantity\": 1,\n",
      "      \"total_price\": 2.5\n",
      "    }\n",
      "  ],\n",
      "  \"total\": 8.15,\n",
      "  \"total_tax\": 0.94,\n",
      "  \"tax_details\": 0.94,\n",
      "  \"merchant_address\": \"47 49 Tooley Street SE1 2QN\",\n",
      "  \"merchant_name\": \"Pret A Manger (Europe) Ltd\",\n",
      "  \"transaction_date\": \"2024-10-04\",\n",
      "  \"transaction_time\": \"14:58:00\"\n",
      "}\n"
     ]
    }
   ],
   "source": [
    "print(res.model_dump_json(indent=2))"
   ]
  }
 ],
 "metadata": {
  "kernelspec": {
   "display_name": "Python 3",
   "language": "python",
   "name": "python3"
  },
  "language_info": {
   "codemirror_mode": {
    "name": "ipython",
    "version": 2
   },
   "file_extension": ".py",
   "mimetype": "text/x-python",
   "name": "python",
   "nbconvert_exporter": "python",
   "pygments_lexer": "ipython2",
   "version": "2.7.6"
  }
 },
 "nbformat": 4,
 "nbformat_minor": 5
}
